{
 "cells": [
  {
   "cell_type": "code",
   "execution_count": 3,
   "metadata": {},
   "outputs": [],
   "source": [
    "#conftest.py\n",
    "\n",
    "# import pytest\n",
    "import yaml\n",
    "import os\n",
    "from slimt import REPOSITORY, Model, Service, Package, Config"
   ]
  },
  {
   "cell_type": "code",
   "execution_count": 8,
   "metadata": {},
   "outputs": [
    {
     "name": "stdout",
     "output_type": "stream",
     "text": [
      "Downloading and extracting en-es-tiny into ... /Users/kirandevrajr/Library/Application Support/slimt/models/browsermt/enes.student.tiny11 Done.\n"
     ]
    }
   ],
   "source": [
    "#Download the models:\n",
    "#model_ids = [\"en-es-tiny\", \"es-en-tiny\"]\n",
    "REPOSITORY.download(\"browsermt\", \"en-es-tiny\")"
   ]
  },
  {
   "cell_type": "code",
   "execution_count": 9,
   "metadata": {},
   "outputs": [
    {
     "name": "stdout",
     "output_type": "stream",
     "text": [
      "Downloading and extracting es-en-tiny into ... /Users/kirandevrajr/Library/Application Support/slimt/models/browsermt/esen.student.tiny11 Done.\n"
     ]
    }
   ],
   "source": [
    "REPOSITORY.download(\"browsermt\", \"es-en-tiny\")"
   ]
  },
  {
   "cell_type": "code",
   "execution_count": 10,
   "metadata": {},
   "outputs": [],
   "source": [
    "config_path = REPOSITORY.modelConfigPath(\"browsermt\", \"en-es-tiny\")"
   ]
  },
  {
   "cell_type": "code",
   "execution_count": 11,
   "metadata": {},
   "outputs": [
    {
     "data": {
      "text/plain": [
       "'/Users/kirandevrajr/Library/Application Support/slimt/models/browsermt/enes.student.tiny11/config.slimt.yml'"
      ]
     },
     "execution_count": 11,
     "metadata": {},
     "output_type": "execute_result"
    }
   ],
   "source": [
    "config_path"
   ]
  },
  {
   "cell_type": "code",
   "execution_count": 12,
   "metadata": {},
   "outputs": [],
   "source": [
    "c = None\n",
    "with open(config_path) as yaml_file:\n",
    "    c = yaml.safe_load(yaml_file)"
   ]
  },
  {
   "cell_type": "code",
   "execution_count": 13,
   "metadata": {},
   "outputs": [
    {
     "data": {
      "text/plain": [
       "{'relative-paths': True,\n",
       " 'models': ['model.intgemm.alphas.bin'],\n",
       " 'vocabs': ['vocab.esen.spm', 'vocab.esen.spm'],\n",
       " 'shortlist': ['lex.s2t.bin', False],\n",
       " 'beam-size': 1,\n",
       " 'normalize': 1.0,\n",
       " 'word-penalty': 0,\n",
       " 'mini-batch': 64,\n",
       " 'maxi-batch': 1000,\n",
       " 'maxi-batch-sort': 'src',\n",
       " 'workspace': 128,\n",
       " 'max-length-factor': 2.0,\n",
       " 'skip-cost': True,\n",
       " 'gemm-precision': 'int8shiftAlphaAll',\n",
       " 'ssplit-prefix-file': '',\n",
       " 'ssplit-mode': 'paragraph',\n",
       " 'max-length-break': 128,\n",
       " 'mini-batch-words': 1024,\n",
       " 'alignment': 'soft'}"
      ]
     },
     "execution_count": 13,
     "metadata": {},
     "output_type": "execute_result"
    }
   ],
   "source": [
    "c"
   ]
  },
  {
   "cell_type": "code",
   "execution_count": 14,
   "metadata": {},
   "outputs": [],
   "source": [
    "root = os.path.dirname(config_path)\n",
    "\n",
    "package = Package(\n",
    "                model=os.path.join(root, c[\"models\"][0]),\n",
    "                vocabulary=os.path.join(root, c[\"vocabs\"][0]),\n",
    "                shortlist=os.path.join(root, c[\"shortlist\"][0]),\n",
    "            )"
   ]
  },
  {
   "cell_type": "code",
   "execution_count": 19,
   "metadata": {},
   "outputs": [],
   "source": [
    "config = Config()"
   ]
  },
  {
   "cell_type": "code",
   "execution_count": 20,
   "metadata": {},
   "outputs": [
    {
     "data": {
      "text/plain": [
       "<slimt._slimt.Config at 0x109927c70>"
      ]
     },
     "execution_count": 20,
     "metadata": {},
     "output_type": "execute_result"
    }
   ],
   "source": [
    "config"
   ]
  },
  {
   "cell_type": "code",
   "execution_count": 22,
   "metadata": {},
   "outputs": [
    {
     "name": "stderr",
     "output_type": "stream",
     "text": [
      "[warn] Failed to ingest expected load of Wemb_QuantMultA\n",
      "[warn] Failed to ingest expected load of special:model.yml\n"
     ]
    }
   ],
   "source": [
    "config = Config()\n",
    "model = Model(config, package)"
   ]
  },
  {
   "cell_type": "code",
   "execution_count": 23,
   "metadata": {},
   "outputs": [],
   "source": [
    "sample_input_types = [\n",
    "        (\"1 2 3 4 5 6 7 8 9\", \"1 2 3 4 5 6 7 8 9\", False),\n",
    "        (\n",
    "            \"How embarrassing. A fridge full of condiments and no food.\",\n",
    "            \"Que embarazoso. Una nevera llena de condimentos y nada de comida.\",\n",
    "            False,\n",
    "        ),\n",
    "        (\"<div>Hello</div>\", \"<div>Hola</div>\", True),\n",
    "    ]"
   ]
  },
  {
   "cell_type": "code",
   "execution_count": 24,
   "metadata": {},
   "outputs": [],
   "source": [
    "#Basic Translation:\n",
    "\n",
    "\n",
    "translator_service = Service(workers=1, cache_size=1024)\n"
   ]
  },
  {
   "cell_type": "code",
   "execution_count": 50,
   "metadata": {},
   "outputs": [],
   "source": [
    "from slimt.utils import toJSON"
   ]
  },
  {
   "cell_type": "code",
   "execution_count": 52,
   "metadata": {},
   "outputs": [],
   "source": [
    "import ast"
   ]
  },
  {
   "cell_type": "code",
   "execution_count": 65,
   "metadata": {},
   "outputs": [],
   "source": [
    "responses = translator_service.translate(model, [\"whats up?\", \"what are you doing?\"], html=False)\n"
   ]
  },
  {
   "cell_type": "code",
   "execution_count": 84,
   "metadata": {},
   "outputs": [
    {
     "name": "stdout",
     "output_type": "stream",
     "text": [
      "Qué pasa?\n",
      "Qué estás haciendo?\n"
     ]
    }
   ],
   "source": [
    "\n",
    "for response in responses:\n",
    "    rp = response\n",
    "    r = (toJSON(response, indent=4))\n",
    "    r = ast.literal_eval(r)\n",
    "    print(r['target']['text'])"
   ]
  },
  {
   "cell_type": "code",
   "execution_count": 78,
   "metadata": {},
   "outputs": [
    {
     "data": {
      "text/plain": [
       "{'source': {'text': 'what are you doing?',\n",
       "  'annotation': [[[0, 4], [4, 8], [8, 12], [12, 18], [18, 19], [19, 19]]]},\n",
       " 'target': {'text': 'Qué estás haciendo?',\n",
       "  'annotation': [[[0, 0], [0, 4], [4, 10], [10, 11], [11, 20], [20, 21]]]},\n",
       " 'alignments': [[[0.9970173835754395,\n",
       "    0.00037707286537624896,\n",
       "    0.0017040938837453723,\n",
       "    3.5690445656655356e-05,\n",
       "    0.0005519440164789557,\n",
       "    0.00031382308225147426],\n",
       "   [0.48684170842170715,\n",
       "    0.09194065630435944,\n",
       "    0.09425660222768784,\n",
       "    0.08864744007587433,\n",
       "    0.05612228438258171,\n",
       "    0.18219135701656342],\n",
       "   [0.0031019493471831083,\n",
       "    0.44897887110710144,\n",
       "    0.16401857137680054,\n",
       "    0.3526724874973297,\n",
       "    0.01054419856518507,\n",
       "    0.02068387344479561],\n",
       "   [0.0016631616745144129,\n",
       "    0.10203177481889725,\n",
       "    0.5067577362060547,\n",
       "    0.3745945394039154,\n",
       "    9.753377526067197e-05,\n",
       "    0.01485515758395195],\n",
       "   [0.00046250937157310545,\n",
       "    0.004688066430389881,\n",
       "    0.017753154039382935,\n",
       "    0.9711695313453674,\n",
       "    0.0013403180055320263,\n",
       "    0.004586407914757729],\n",
       "   [0.0010927985422313213,\n",
       "    0.006186497863382101,\n",
       "    0.028571289032697678,\n",
       "    0.046150416135787964,\n",
       "    0.911506175994873,\n",
       "    0.006492799613624811]]]}"
      ]
     },
     "execution_count": 78,
     "metadata": {},
     "output_type": "execute_result"
    }
   ],
   "source": [
    "r"
   ]
  },
  {
   "cell_type": "code",
   "execution_count": 79,
   "metadata": {},
   "outputs": [
    {
     "data": {
      "text/plain": [
       "'Qué estás haciendo?'"
      ]
     },
     "execution_count": 79,
     "metadata": {},
     "output_type": "execute_result"
    }
   ],
   "source": [
    "r['target']['text']"
   ]
  },
  {
   "cell_type": "code",
   "execution_count": 80,
   "metadata": {},
   "outputs": [
    {
     "data": {
      "text/plain": [
       "{'source': {'text': 'what are you doing?',\n",
       "  'annotation': [[[0, 4], [4, 8], [8, 12], [12, 18], [18, 19], [19, 19]]]},\n",
       " 'target': {'text': 'Qué estás haciendo?',\n",
       "  'annotation': [[[0, 0], [0, 4], [4, 10], [10, 11], [11, 20], [20, 21]]]},\n",
       " 'alignments': [[[0.9970173835754395,\n",
       "    0.00037707286537624896,\n",
       "    0.0017040938837453723,\n",
       "    3.5690445656655356e-05,\n",
       "    0.0005519440164789557,\n",
       "    0.00031382308225147426],\n",
       "   [0.48684170842170715,\n",
       "    0.09194065630435944,\n",
       "    0.09425660222768784,\n",
       "    0.08864744007587433,\n",
       "    0.05612228438258171,\n",
       "    0.18219135701656342],\n",
       "   [0.0031019493471831083,\n",
       "    0.44897887110710144,\n",
       "    0.16401857137680054,\n",
       "    0.3526724874973297,\n",
       "    0.01054419856518507,\n",
       "    0.02068387344479561],\n",
       "   [0.0016631616745144129,\n",
       "    0.10203177481889725,\n",
       "    0.5067577362060547,\n",
       "    0.3745945394039154,\n",
       "    9.753377526067197e-05,\n",
       "    0.01485515758395195],\n",
       "   [0.00046250937157310545,\n",
       "    0.004688066430389881,\n",
       "    0.017753154039382935,\n",
       "    0.9711695313453674,\n",
       "    0.0013403180055320263,\n",
       "    0.004586407914757729],\n",
       "   [0.0010927985422313213,\n",
       "    0.006186497863382101,\n",
       "    0.028571289032697678,\n",
       "    0.046150416135787964,\n",
       "    0.911506175994873,\n",
       "    0.006492799613624811]]]}"
      ]
     },
     "execution_count": 80,
     "metadata": {},
     "output_type": "execute_result"
    }
   ],
   "source": [
    "r"
   ]
  },
  {
   "cell_type": "code",
   "execution_count": 81,
   "metadata": {},
   "outputs": [],
   "source": [
    "def tokens(response):\n",
    "    text = response[\"text\"]\n",
    "    annotations = response[\"annotation\"][0]\n",
    "    print(text, annotations)\n",
    "    tokens_ = []\n",
    "    for annotation in annotations:\n",
    "        if annotation[0] == annotation[1]:\n",
    "            continue\n",
    "        tokens_.append(text[annotation[0] : annotation[1]])\n",
    "    return tokens_"
   ]
  },
  {
   "cell_type": "code",
   "execution_count": 89,
   "metadata": {},
   "outputs": [
    {
     "name": "stdout",
     "output_type": "stream",
     "text": [
      "what are you doing? [[0, 4], [4, 8], [8, 12], [12, 18], [18, 19], [19, 19]]\n",
      "Qué estás haciendo? [[0, 0], [0, 4], [4, 10], [10, 11], [11, 20], [20, 21]]\n"
     ]
    },
    {
     "data": {
      "text/plain": [
       "['Qué ', 'estás ', 'h', 'aciendo?', '']"
      ]
     },
     "execution_count": 89,
     "metadata": {},
     "output_type": "execute_result"
    }
   ],
   "source": [
    "tokens(r[\"source\"])\n",
    "tokens(r[\"target\"])"
   ]
  },
  {
   "cell_type": "code",
   "execution_count": 88,
   "metadata": {},
   "outputs": [],
   "source": [
    "# r"
   ]
  },
  {
   "cell_type": "code",
   "execution_count": 91,
   "metadata": {},
   "outputs": [],
   "source": [
    "config_path_es2en = REPOSITORY.modelConfigPath(\"browsermt\", \"es-en-tiny\")\n",
    "c1 = None\n",
    "with open(config_path_es2en) as yaml_file:\n",
    "    c1= yaml.safe_load(yaml_file)"
   ]
  },
  {
   "cell_type": "code",
   "execution_count": 93,
   "metadata": {},
   "outputs": [
    {
     "name": "stderr",
     "output_type": "stream",
     "text": [
      "[warn] Failed to ingest expected load of Wemb_QuantMultA\n",
      "[warn] Failed to ingest expected load of special:model.yml\n"
     ]
    }
   ],
   "source": [
    "root = os.path.dirname(config_path_es2en)\n",
    "\n",
    "package = Package(\n",
    "                model=os.path.join(root, c1[\"models\"][0]),\n",
    "                vocabulary=os.path.join(root, c1[\"vocabs\"][0]),\n",
    "                shortlist=os.path.join(root, c1[\"shortlist\"][0]),\n",
    "            )\n",
    "\n",
    "\n",
    "model = Model(config, package)"
   ]
  },
  {
   "cell_type": "code",
   "execution_count": 94,
   "metadata": {},
   "outputs": [],
   "source": [
    "responses_es = translator_service.translate(model, [\"Qué estás haciendo?\"], html=False)"
   ]
  },
  {
   "cell_type": "code",
   "execution_count": 96,
   "metadata": {},
   "outputs": [
    {
     "name": "stdout",
     "output_type": "stream",
     "text": [
      "What are you doing?\n"
     ]
    }
   ],
   "source": [
    "for response in responses_es:\n",
    "    rp = response\n",
    "    r = (toJSON(response, indent=4))\n",
    "    r = ast.literal_eval(r)\n",
    "    print(r['target']['text'])"
   ]
  },
  {
   "cell_type": "code",
   "execution_count": null,
   "metadata": {},
   "outputs": [],
   "source": []
  }
 ],
 "metadata": {
  "kernelspec": {
   "display_name": "env",
   "language": "python",
   "name": "python3"
  },
  "language_info": {
   "codemirror_mode": {
    "name": "ipython",
    "version": 3
   },
   "file_extension": ".py",
   "mimetype": "text/x-python",
   "name": "python",
   "nbconvert_exporter": "python",
   "pygments_lexer": "ipython3",
   "version": "3.9.6"
  },
  "orig_nbformat": 4
 },
 "nbformat": 4,
 "nbformat_minor": 2
}
